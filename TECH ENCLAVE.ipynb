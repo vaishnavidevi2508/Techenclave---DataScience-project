{
 "cells": [
  {
   "cell_type": "markdown",
   "id": "c56648bd-f7a3-44df-ab99-422dd94f48c6",
   "metadata": {},
   "source": [
    "##LOAD DATA USING PANDAS(GATHERING DATA)"
   ]
  },
  {
   "cell_type": "code",
   "execution_count": 1,
   "id": "990dc423-39ca-49da-9d74-970f4d9f676a",
   "metadata": {},
   "outputs": [],
   "source": [
    "import pandas as pd"
   ]
  },
  {
   "cell_type": "code",
   "execution_count": 3,
   "id": "26e8520b-68ff-459d-bfd5-91997a937caa",
   "metadata": {},
   "outputs": [
    {
     "data": {
      "text/html": [
       "<div>\n",
       "<style scoped>\n",
       "    .dataframe tbody tr th:only-of-type {\n",
       "        vertical-align: middle;\n",
       "    }\n",
       "\n",
       "    .dataframe tbody tr th {\n",
       "        vertical-align: top;\n",
       "    }\n",
       "\n",
       "    .dataframe thead th {\n",
       "        text-align: right;\n",
       "    }\n",
       "</style>\n",
       "<table border=\"1\" class=\"dataframe\">\n",
       "  <thead>\n",
       "    <tr style=\"text-align: right;\">\n",
       "      <th></th>\n",
       "      <th>Hours of Sleep</th>\n",
       "      <th>Hours Studied</th>\n",
       "      <th>Grade on Test</th>\n",
       "      <th>Grade in Class</th>\n",
       "      <th>Cups of Coffee</th>\n",
       "    </tr>\n",
       "  </thead>\n",
       "  <tbody>\n",
       "    <tr>\n",
       "      <th>0</th>\n",
       "      <td>10.602667</td>\n",
       "      <td>4.586892</td>\n",
       "      <td>99</td>\n",
       "      <td>99.187294</td>\n",
       "      <td>5</td>\n",
       "    </tr>\n",
       "    <tr>\n",
       "      <th>1</th>\n",
       "      <td>8.172997</td>\n",
       "      <td>4.405120</td>\n",
       "      <td>72</td>\n",
       "      <td>67.070903</td>\n",
       "      <td>3</td>\n",
       "    </tr>\n",
       "    <tr>\n",
       "      <th>2</th>\n",
       "      <td>6.430132</td>\n",
       "      <td>0.519630</td>\n",
       "      <td>52</td>\n",
       "      <td>39.644696</td>\n",
       "      <td>4</td>\n",
       "    </tr>\n",
       "    <tr>\n",
       "      <th>3</th>\n",
       "      <td>7.963793</td>\n",
       "      <td>5.004348</td>\n",
       "      <td>80</td>\n",
       "      <td>61.843705</td>\n",
       "      <td>1</td>\n",
       "    </tr>\n",
       "    <tr>\n",
       "      <th>4</th>\n",
       "      <td>8.279421</td>\n",
       "      <td>2.984489</td>\n",
       "      <td>87</td>\n",
       "      <td>103.495002</td>\n",
       "      <td>0</td>\n",
       "    </tr>\n",
       "    <tr>\n",
       "      <th>...</th>\n",
       "      <td>...</td>\n",
       "      <td>...</td>\n",
       "      <td>...</td>\n",
       "      <td>...</td>\n",
       "      <td>...</td>\n",
       "    </tr>\n",
       "    <tr>\n",
       "      <th>195</th>\n",
       "      <td>4.155300</td>\n",
       "      <td>3.173197</td>\n",
       "      <td>59</td>\n",
       "      <td>56.110076</td>\n",
       "      <td>2</td>\n",
       "    </tr>\n",
       "    <tr>\n",
       "      <th>196</th>\n",
       "      <td>4.306093</td>\n",
       "      <td>2.765300</td>\n",
       "      <td>58</td>\n",
       "      <td>64.740320</td>\n",
       "      <td>1</td>\n",
       "    </tr>\n",
       "    <tr>\n",
       "      <th>197</th>\n",
       "      <td>4.686733</td>\n",
       "      <td>2.422294</td>\n",
       "      <td>58</td>\n",
       "      <td>49.462645</td>\n",
       "      <td>1</td>\n",
       "    </tr>\n",
       "    <tr>\n",
       "      <th>198</th>\n",
       "      <td>9.407950</td>\n",
       "      <td>5.290924</td>\n",
       "      <td>98</td>\n",
       "      <td>83.790217</td>\n",
       "      <td>10</td>\n",
       "    </tr>\n",
       "    <tr>\n",
       "      <th>199</th>\n",
       "      <td>5.989777</td>\n",
       "      <td>1.127786</td>\n",
       "      <td>54</td>\n",
       "      <td>56.194381</td>\n",
       "      <td>2</td>\n",
       "    </tr>\n",
       "  </tbody>\n",
       "</table>\n",
       "<p>200 rows × 5 columns</p>\n",
       "</div>"
      ],
      "text/plain": [
       "     Hours of Sleep  Hours Studied  Grade on Test  Grade in Class  \\\n",
       "0         10.602667       4.586892             99       99.187294   \n",
       "1          8.172997       4.405120             72       67.070903   \n",
       "2          6.430132       0.519630             52       39.644696   \n",
       "3          7.963793       5.004348             80       61.843705   \n",
       "4          8.279421       2.984489             87      103.495002   \n",
       "..              ...            ...            ...             ...   \n",
       "195        4.155300       3.173197             59       56.110076   \n",
       "196        4.306093       2.765300             58       64.740320   \n",
       "197        4.686733       2.422294             58       49.462645   \n",
       "198        9.407950       5.290924             98       83.790217   \n",
       "199        5.989777       1.127786             54       56.194381   \n",
       "\n",
       "     Cups of Coffee  \n",
       "0                 5  \n",
       "1                 3  \n",
       "2                 4  \n",
       "3                 1  \n",
       "4                 0  \n",
       "..              ...  \n",
       "195               2  \n",
       "196               1  \n",
       "197               1  \n",
       "198              10  \n",
       "199               2  \n",
       "\n",
       "[200 rows x 5 columns]"
      ]
     },
     "execution_count": 3,
     "metadata": {},
     "output_type": "execute_result"
    }
   ],
   "source": [
    "pd.read_csv('student_data.csv')"
   ]
  },
  {
   "cell_type": "markdown",
   "id": "969f77c1-e080-4ef1-a0ac-7400035ab18e",
   "metadata": {},
   "source": [
    "##CLEAN MISSING VALUES"
   ]
  },
  {
   "cell_type": "code",
   "execution_count": 5,
   "id": "587adc7f-9a5a-4efd-a8ef-273669f3c368",
   "metadata": {},
   "outputs": [],
   "source": [
    "df = pd.read_csv('student_data.csv')"
   ]
  },
  {
   "cell_type": "code",
   "execution_count": 7,
   "id": "95e53ed8-6737-4bd5-9059-7b2bdcc42cf0",
   "metadata": {},
   "outputs": [
    {
     "data": {
      "text/plain": [
       "Hours of Sleep    float64\n",
       "Hours Studied     float64\n",
       "Grade on Test       int64\n",
       "Grade in Class    float64\n",
       "Cups of Coffee      int64\n",
       "dtype: object"
      ]
     },
     "execution_count": 7,
     "metadata": {},
     "output_type": "execute_result"
    }
   ],
   "source": [
    "df.dtypes"
   ]
  },
  {
   "cell_type": "code",
   "execution_count": 8,
   "id": "5dda8fa8-ff80-4e42-8cf2-d9aa86c2d967",
   "metadata": {},
   "outputs": [
    {
     "name": "stdout",
     "output_type": "stream",
     "text": [
      "<class 'pandas.core.frame.DataFrame'>\n",
      "RangeIndex: 200 entries, 0 to 199\n",
      "Data columns (total 5 columns):\n",
      " #   Column          Non-Null Count  Dtype  \n",
      "---  ------          --------------  -----  \n",
      " 0   Hours of Sleep  200 non-null    float64\n",
      " 1   Hours Studied   200 non-null    float64\n",
      " 2   Grade on Test   200 non-null    int64  \n",
      " 3   Grade in Class  200 non-null    float64\n",
      " 4   Cups of Coffee  200 non-null    int64  \n",
      "dtypes: float64(3), int64(2)\n",
      "memory usage: 7.9 KB\n"
     ]
    }
   ],
   "source": [
    "df.info()"
   ]
  },
  {
   "cell_type": "code",
   "execution_count": 9,
   "id": "d2afc1bb-f7c6-455d-9770-111b62df5e29",
   "metadata": {},
   "outputs": [
    {
     "data": {
      "text/html": [
       "<div>\n",
       "<style scoped>\n",
       "    .dataframe tbody tr th:only-of-type {\n",
       "        vertical-align: middle;\n",
       "    }\n",
       "\n",
       "    .dataframe tbody tr th {\n",
       "        vertical-align: top;\n",
       "    }\n",
       "\n",
       "    .dataframe thead th {\n",
       "        text-align: right;\n",
       "    }\n",
       "</style>\n",
       "<table border=\"1\" class=\"dataframe\">\n",
       "  <thead>\n",
       "    <tr style=\"text-align: right;\">\n",
       "      <th></th>\n",
       "      <th>Hours of Sleep</th>\n",
       "      <th>Hours Studied</th>\n",
       "      <th>Grade on Test</th>\n",
       "      <th>Grade in Class</th>\n",
       "      <th>Cups of Coffee</th>\n",
       "    </tr>\n",
       "  </thead>\n",
       "  <tbody>\n",
       "    <tr>\n",
       "      <th>0</th>\n",
       "      <td>False</td>\n",
       "      <td>False</td>\n",
       "      <td>False</td>\n",
       "      <td>False</td>\n",
       "      <td>False</td>\n",
       "    </tr>\n",
       "    <tr>\n",
       "      <th>1</th>\n",
       "      <td>False</td>\n",
       "      <td>False</td>\n",
       "      <td>False</td>\n",
       "      <td>False</td>\n",
       "      <td>False</td>\n",
       "    </tr>\n",
       "    <tr>\n",
       "      <th>2</th>\n",
       "      <td>False</td>\n",
       "      <td>False</td>\n",
       "      <td>False</td>\n",
       "      <td>False</td>\n",
       "      <td>False</td>\n",
       "    </tr>\n",
       "    <tr>\n",
       "      <th>3</th>\n",
       "      <td>False</td>\n",
       "      <td>False</td>\n",
       "      <td>False</td>\n",
       "      <td>False</td>\n",
       "      <td>False</td>\n",
       "    </tr>\n",
       "    <tr>\n",
       "      <th>4</th>\n",
       "      <td>False</td>\n",
       "      <td>False</td>\n",
       "      <td>False</td>\n",
       "      <td>False</td>\n",
       "      <td>False</td>\n",
       "    </tr>\n",
       "    <tr>\n",
       "      <th>...</th>\n",
       "      <td>...</td>\n",
       "      <td>...</td>\n",
       "      <td>...</td>\n",
       "      <td>...</td>\n",
       "      <td>...</td>\n",
       "    </tr>\n",
       "    <tr>\n",
       "      <th>195</th>\n",
       "      <td>False</td>\n",
       "      <td>False</td>\n",
       "      <td>False</td>\n",
       "      <td>False</td>\n",
       "      <td>False</td>\n",
       "    </tr>\n",
       "    <tr>\n",
       "      <th>196</th>\n",
       "      <td>False</td>\n",
       "      <td>False</td>\n",
       "      <td>False</td>\n",
       "      <td>False</td>\n",
       "      <td>False</td>\n",
       "    </tr>\n",
       "    <tr>\n",
       "      <th>197</th>\n",
       "      <td>False</td>\n",
       "      <td>False</td>\n",
       "      <td>False</td>\n",
       "      <td>False</td>\n",
       "      <td>False</td>\n",
       "    </tr>\n",
       "    <tr>\n",
       "      <th>198</th>\n",
       "      <td>False</td>\n",
       "      <td>False</td>\n",
       "      <td>False</td>\n",
       "      <td>False</td>\n",
       "      <td>False</td>\n",
       "    </tr>\n",
       "    <tr>\n",
       "      <th>199</th>\n",
       "      <td>False</td>\n",
       "      <td>False</td>\n",
       "      <td>False</td>\n",
       "      <td>False</td>\n",
       "      <td>False</td>\n",
       "    </tr>\n",
       "  </tbody>\n",
       "</table>\n",
       "<p>200 rows × 5 columns</p>\n",
       "</div>"
      ],
      "text/plain": [
       "     Hours of Sleep  Hours Studied  Grade on Test  Grade in Class  \\\n",
       "0             False          False          False           False   \n",
       "1             False          False          False           False   \n",
       "2             False          False          False           False   \n",
       "3             False          False          False           False   \n",
       "4             False          False          False           False   \n",
       "..              ...            ...            ...             ...   \n",
       "195           False          False          False           False   \n",
       "196           False          False          False           False   \n",
       "197           False          False          False           False   \n",
       "198           False          False          False           False   \n",
       "199           False          False          False           False   \n",
       "\n",
       "     Cups of Coffee  \n",
       "0             False  \n",
       "1             False  \n",
       "2             False  \n",
       "3             False  \n",
       "4             False  \n",
       "..              ...  \n",
       "195           False  \n",
       "196           False  \n",
       "197           False  \n",
       "198           False  \n",
       "199           False  \n",
       "\n",
       "[200 rows x 5 columns]"
      ]
     },
     "execution_count": 9,
     "metadata": {},
     "output_type": "execute_result"
    }
   ],
   "source": [
    "df.isna()"
   ]
  },
  {
   "cell_type": "code",
   "execution_count": 10,
   "id": "5df4d5e4-cf96-4f43-9cf9-671a55663f55",
   "metadata": {},
   "outputs": [
    {
     "data": {
      "text/html": [
       "<div>\n",
       "<style scoped>\n",
       "    .dataframe tbody tr th:only-of-type {\n",
       "        vertical-align: middle;\n",
       "    }\n",
       "\n",
       "    .dataframe tbody tr th {\n",
       "        vertical-align: top;\n",
       "    }\n",
       "\n",
       "    .dataframe thead th {\n",
       "        text-align: right;\n",
       "    }\n",
       "</style>\n",
       "<table border=\"1\" class=\"dataframe\">\n",
       "  <thead>\n",
       "    <tr style=\"text-align: right;\">\n",
       "      <th></th>\n",
       "      <th>Hours of Sleep</th>\n",
       "      <th>Hours Studied</th>\n",
       "      <th>Grade on Test</th>\n",
       "      <th>Grade in Class</th>\n",
       "      <th>Cups of Coffee</th>\n",
       "    </tr>\n",
       "  </thead>\n",
       "  <tbody>\n",
       "  </tbody>\n",
       "</table>\n",
       "</div>"
      ],
      "text/plain": [
       "Empty DataFrame\n",
       "Columns: [Hours of Sleep, Hours Studied, Grade on Test, Grade in Class, Cups of Coffee]\n",
       "Index: []"
      ]
     },
     "execution_count": 10,
     "metadata": {},
     "output_type": "execute_result"
    }
   ],
   "source": [
    "df[df.isna().any(axis=1)]"
   ]
  },
  {
   "cell_type": "code",
   "execution_count": 11,
   "id": "e2c8129a-fb24-4d7a-bca1-eed4c1a3df59",
   "metadata": {},
   "outputs": [
    {
     "data": {
      "text/plain": [
       "Hours of Sleep    0\n",
       "Hours Studied     0\n",
       "Grade on Test     0\n",
       "Grade in Class    0\n",
       "Cups of Coffee    0\n",
       "dtype: int64"
      ]
     },
     "execution_count": 11,
     "metadata": {},
     "output_type": "execute_result"
    }
   ],
   "source": [
    "df.isna().sum()"
   ]
  },
  {
   "cell_type": "code",
   "execution_count": 15,
   "id": "db30a322-2e22-4a17-aeae-9e5b600f0842",
   "metadata": {},
   "outputs": [
    {
     "data": {
      "text/html": [
       "<div>\n",
       "<style scoped>\n",
       "    .dataframe tbody tr th:only-of-type {\n",
       "        vertical-align: middle;\n",
       "    }\n",
       "\n",
       "    .dataframe tbody tr th {\n",
       "        vertical-align: top;\n",
       "    }\n",
       "\n",
       "    .dataframe thead th {\n",
       "        text-align: right;\n",
       "    }\n",
       "</style>\n",
       "<table border=\"1\" class=\"dataframe\">\n",
       "  <thead>\n",
       "    <tr style=\"text-align: right;\">\n",
       "      <th></th>\n",
       "      <th>Hours of Sleep</th>\n",
       "      <th>Hours Studied</th>\n",
       "      <th>Grade on Test</th>\n",
       "      <th>Grade in Class</th>\n",
       "      <th>Cups of Coffee</th>\n",
       "    </tr>\n",
       "  </thead>\n",
       "  <tbody>\n",
       "    <tr>\n",
       "      <th>0</th>\n",
       "      <td>10.602667</td>\n",
       "      <td>4.586892</td>\n",
       "      <td>99</td>\n",
       "      <td>99.187294</td>\n",
       "      <td>5</td>\n",
       "    </tr>\n",
       "    <tr>\n",
       "      <th>1</th>\n",
       "      <td>8.172997</td>\n",
       "      <td>4.405120</td>\n",
       "      <td>72</td>\n",
       "      <td>67.070903</td>\n",
       "      <td>3</td>\n",
       "    </tr>\n",
       "    <tr>\n",
       "      <th>2</th>\n",
       "      <td>6.430132</td>\n",
       "      <td>0.519630</td>\n",
       "      <td>52</td>\n",
       "      <td>39.644696</td>\n",
       "      <td>4</td>\n",
       "    </tr>\n",
       "    <tr>\n",
       "      <th>3</th>\n",
       "      <td>7.963793</td>\n",
       "      <td>5.004348</td>\n",
       "      <td>80</td>\n",
       "      <td>61.843705</td>\n",
       "      <td>1</td>\n",
       "    </tr>\n",
       "    <tr>\n",
       "      <th>4</th>\n",
       "      <td>8.279421</td>\n",
       "      <td>2.984489</td>\n",
       "      <td>87</td>\n",
       "      <td>103.495002</td>\n",
       "      <td>0</td>\n",
       "    </tr>\n",
       "  </tbody>\n",
       "</table>\n",
       "</div>"
      ],
      "text/plain": [
       "   Hours of Sleep  Hours Studied  Grade on Test  Grade in Class  \\\n",
       "0       10.602667       4.586892             99       99.187294   \n",
       "1        8.172997       4.405120             72       67.070903   \n",
       "2        6.430132       0.519630             52       39.644696   \n",
       "3        7.963793       5.004348             80       61.843705   \n",
       "4        8.279421       2.984489             87      103.495002   \n",
       "\n",
       "   Cups of Coffee  \n",
       "0               5  \n",
       "1               3  \n",
       "2               4  \n",
       "3               1  \n",
       "4               0  "
      ]
     },
     "execution_count": 15,
     "metadata": {},
     "output_type": "execute_result"
    }
   ],
   "source": [
    "df.head()"
   ]
  },
  {
   "cell_type": "code",
   "execution_count": 17,
   "id": "32a78227-e5d4-47a3-bb5b-f992168aa1c8",
   "metadata": {},
   "outputs": [
    {
     "data": {
      "text/plain": [
       "count    200.000000\n",
       "mean       7.248332\n",
       "std        2.121694\n",
       "min        1.899843\n",
       "25%        5.780407\n",
       "50%        7.116339\n",
       "75%        8.788501\n",
       "max       12.325174\n",
       "Name: Hours of Sleep, dtype: float64"
      ]
     },
     "execution_count": 17,
     "metadata": {},
     "output_type": "execute_result"
    }
   ],
   "source": [
    "df['Hours of Sleep'].describe()"
   ]
  },
  {
   "cell_type": "code",
   "execution_count": 18,
   "id": "bfd92504-a1d5-44b9-81b5-ee5ddd1e9909",
   "metadata": {},
   "outputs": [
    {
     "data": {
      "text/plain": [
       "count    200.000000\n",
       "mean       3.637592\n",
       "std        1.601832\n",
       "min        0.157700\n",
       "25%        2.582146\n",
       "50%        3.551768\n",
       "75%        4.769993\n",
       "max        7.738695\n",
       "Name: Hours Studied, dtype: float64"
      ]
     },
     "execution_count": 18,
     "metadata": {},
     "output_type": "execute_result"
    }
   ],
   "source": [
    "df['Hours Studied'].describe()"
   ]
  },
  {
   "cell_type": "code",
   "execution_count": 44,
   "id": "e3dcee34-f55a-48de-824e-1f139996459c",
   "metadata": {},
   "outputs": [
    {
     "data": {
      "text/plain": [
       "count    200.000000\n",
       "mean      74.080000\n",
       "std       14.644312\n",
       "min       50.000000\n",
       "25%       61.000000\n",
       "50%       76.000000\n",
       "75%       87.000000\n",
       "max      100.000000\n",
       "Name: Grade on Test, dtype: float64"
      ]
     },
     "execution_count": 44,
     "metadata": {},
     "output_type": "execute_result"
    }
   ],
   "source": [
    "df['Grade on Test'].describe()"
   ]
  },
  {
   "cell_type": "code",
   "execution_count": 48,
   "id": "cafc5ef9-fcf9-4827-9b48-c373301080b4",
   "metadata": {},
   "outputs": [
    {
     "data": {
      "text/plain": [
       "count    200.000000\n",
       "mean      73.858615\n",
       "std       17.691302\n",
       "min       30.542694\n",
       "25%       60.826118\n",
       "50%       74.863342\n",
       "75%       86.230007\n",
       "max      118.274889\n",
       "Name: Grade in Class, dtype: float64"
      ]
     },
     "execution_count": 48,
     "metadata": {},
     "output_type": "execute_result"
    }
   ],
   "source": [
    "df['Grade in Class'].describe()"
   ]
  },
  {
   "cell_type": "code",
   "execution_count": 33,
   "id": "a8d6e6fd-e9c4-4f45-9cd9-d5a6d2deeac6",
   "metadata": {},
   "outputs": [
    {
     "data": {
      "text/html": [
       "<div>\n",
       "<style scoped>\n",
       "    .dataframe tbody tr th:only-of-type {\n",
       "        vertical-align: middle;\n",
       "    }\n",
       "\n",
       "    .dataframe tbody tr th {\n",
       "        vertical-align: top;\n",
       "    }\n",
       "\n",
       "    .dataframe thead th {\n",
       "        text-align: right;\n",
       "    }\n",
       "</style>\n",
       "<table border=\"1\" class=\"dataframe\">\n",
       "  <thead>\n",
       "    <tr style=\"text-align: right;\">\n",
       "      <th></th>\n",
       "      <th>Hours of Sleep</th>\n",
       "      <th>Hours Studied</th>\n",
       "      <th>Grade on Test</th>\n",
       "      <th>Grade in Class</th>\n",
       "      <th>Cups of Coffee</th>\n",
       "    </tr>\n",
       "  </thead>\n",
       "  <tbody>\n",
       "    <tr>\n",
       "      <th>22</th>\n",
       "      <td>9.934884</td>\n",
       "      <td>3.259941</td>\n",
       "      <td>93</td>\n",
       "      <td>118.274889</td>\n",
       "      <td>1</td>\n",
       "    </tr>\n",
       "  </tbody>\n",
       "</table>\n",
       "</div>"
      ],
      "text/plain": [
       "    Hours of Sleep  Hours Studied  Grade on Test  Grade in Class  \\\n",
       "22        9.934884       3.259941             93      118.274889   \n",
       "\n",
       "    Cups of Coffee  \n",
       "22               1  "
      ]
     },
     "execution_count": 33,
     "metadata": {},
     "output_type": "execute_result"
    }
   ],
   "source": [
    "df[df['Grade in Class']>110]"
   ]
  },
  {
   "cell_type": "code",
   "execution_count": 54,
   "id": "8e6053f0-1a9d-49ed-b9a5-6977b911d1f3",
   "metadata": {},
   "outputs": [
    {
     "data": {
      "text/plain": [
       "array([ 99.18729388,  67.07090322,  39.64469588,  61.84370506,\n",
       "       103.4950024 ,  91.04864897,  78.41402114,  72.31344982,\n",
       "        77.69997227,  40.94922974, 102.8017529 ,  35.79105968,\n",
       "       102.6707511 ,  91.08833018,  80.87767321,  60.3903285 ,\n",
       "        63.33988975,  75.75769664,  66.85354462,  58.96601014,\n",
       "        79.06653383,  56.58617642, 110.        ,  79.70553975,\n",
       "        76.54670348,  74.60085544, 103.3564656 ,  82.93870916,\n",
       "        78.086002  ,  51.02498076,  76.01882918,  88.74676285,\n",
       "        50.24955923,  42.82209511,  83.36342422,  44.21278906,\n",
       "        91.69339844,  70.40597337,  77.2764345 ,  87.47919382,\n",
       "        68.26632291,  41.56328045,  83.38106817,  65.87872308,\n",
       "        73.67507345,  74.25285782,  78.42686031, 102.6597991 ,\n",
       "        70.79410174,  80.48118717,  91.75341167,  72.43541465,\n",
       "        68.61759985,  90.86104727,  72.18853963, 100.7560429 ,\n",
       "        93.90984511, 107.8384458 ,  78.65012597,  38.72203166,\n",
       "        73.60993384,  81.21657487,  54.04179899,  96.91144371,\n",
       "        56.69136297,  64.79004164,  65.74765975,  56.13537814,\n",
       "        64.82554533,  83.49387184,  90.99758203,  96.38443057,\n",
       "        70.69457203,  90.882033  ,  70.72304758,  77.4178518 ,\n",
       "        81.517711  ,  48.01453417,  78.92036199,  64.68088269,\n",
       "        80.04722791,  84.65289801,  61.53925373,  64.93596959,\n",
       "        84.87187289,  90.04893932,  89.81437878,  91.86272406,\n",
       "        80.53670819,  74.78191115, 106.3934905 ,  83.74592937,\n",
       "        30.54269363,  53.62050859,  51.62593113,  53.52017741,\n",
       "        40.90781947,  48.41748527,  99.76821945,  95.97992471,\n",
       "        46.92432517,  89.97467729,  76.05246764,  41.08324198,\n",
       "        70.30304138,  87.37111851,  75.19028787,  64.75044966,\n",
       "        88.24904731,  64.45579656,  71.28177843,  66.69025856,\n",
       "        55.64723803,  58.39852622,  79.3972423 ,  72.71135984,\n",
       "        68.01197298, 106.8040823 ,  60.02595671,  82.95381548,\n",
       "        89.56189391,  99.88420319,  81.02502233,  47.97793282,\n",
       "        60.38472104,  76.81256013,  52.49015968,  49.05533677,\n",
       "        44.42766216,  56.1974295 ,  57.97858227,  88.07860919,\n",
       "        57.14502955,  84.3784434 ,  79.62761834,  49.09224412,\n",
       "        74.94477204,  82.62467751,  92.27862497,  96.05138121,\n",
       "        63.65022359,  96.88311336,  93.39533788,  47.11667545,\n",
       "        63.38497928,  73.41427471,  76.19266795,  59.79660121,\n",
       "        50.61688967,  66.4486918 ,  67.851709  ,  45.37390506,\n",
       "        60.8495269 ,  64.91409034,  85.84963607,  60.75589013,\n",
       "        90.98121352,  65.8401297 ,  93.92162053,  67.53480693,\n",
       "        71.74345973,  70.8612807 ,  73.0934627 , 103.1539813 ,\n",
       "        79.81973532,  95.5454189 ,  49.00421302, 109.9063527 ,\n",
       "        91.00615019,  81.42098652,  80.62595701,  84.9593644 ,\n",
       "        81.65785543,  75.04931115,  45.25508148,  85.64357673,\n",
       "        84.27812798,  69.21140904,  98.39710136,  68.0216815 ,\n",
       "        45.59653653,  59.25513622, 105.9905937 ,  66.13609927,\n",
       "        92.59275296,  93.89195972,  80.19541215,  74.57370423,\n",
       "        81.26457901, 101.2897199 ,  51.21256283,  83.43738939,\n",
       "        51.17962484,  73.93137841,  88.07602875,  56.11007629,\n",
       "        64.74032026,  49.46264512,  83.79021731,  56.19438052])"
      ]
     },
     "execution_count": 54,
     "metadata": {},
     "output_type": "execute_result"
    }
   ],
   "source": [
    "import numpy as np\n",
    "df.grade = np.where(df['Grade in Class']>110, 110, df['Grade in Class'])\n",
    "df.grade"
   ]
  },
  {
   "cell_type": "code",
   "execution_count": 59,
   "id": "65df497c-64f3-43ad-8cb4-860171020d4e",
   "metadata": {},
   "outputs": [
    {
     "data": {
      "text/plain": [
       "count    200.000000\n",
       "mean       1.770000\n",
       "std        1.506135\n",
       "min        0.000000\n",
       "25%        1.000000\n",
       "50%        1.000000\n",
       "75%        3.000000\n",
       "max       10.000000\n",
       "Name: Cups of Coffee, dtype: float64"
      ]
     },
     "execution_count": 59,
     "metadata": {},
     "output_type": "execute_result"
    }
   ],
   "source": [
    "df['Cups of Coffee'].describe()"
   ]
  },
  {
   "cell_type": "code",
   "execution_count": 61,
   "id": "b4c3ae63-c336-4945-a6a7-b45d45c1ea3e",
   "metadata": {},
   "outputs": [
    {
     "data": {
      "text/html": [
       "<div>\n",
       "<style scoped>\n",
       "    .dataframe tbody tr th:only-of-type {\n",
       "        vertical-align: middle;\n",
       "    }\n",
       "\n",
       "    .dataframe tbody tr th {\n",
       "        vertical-align: top;\n",
       "    }\n",
       "\n",
       "    .dataframe thead th {\n",
       "        text-align: right;\n",
       "    }\n",
       "</style>\n",
       "<table border=\"1\" class=\"dataframe\">\n",
       "  <thead>\n",
       "    <tr style=\"text-align: right;\">\n",
       "      <th></th>\n",
       "      <th>Hours of Sleep</th>\n",
       "      <th>Hours Studied</th>\n",
       "      <th>Grade on Test</th>\n",
       "      <th>Grade in Class</th>\n",
       "      <th>Cups of Coffee</th>\n",
       "    </tr>\n",
       "  </thead>\n",
       "  <tbody>\n",
       "    <tr>\n",
       "      <th>198</th>\n",
       "      <td>9.40795</td>\n",
       "      <td>5.290924</td>\n",
       "      <td>98</td>\n",
       "      <td>83.790217</td>\n",
       "      <td>10</td>\n",
       "    </tr>\n",
       "  </tbody>\n",
       "</table>\n",
       "</div>"
      ],
      "text/plain": [
       "     Hours of Sleep  Hours Studied  Grade on Test  Grade in Class  \\\n",
       "198         9.40795       5.290924             98       83.790217   \n",
       "\n",
       "     Cups of Coffee  \n",
       "198              10  "
      ]
     },
     "execution_count": 61,
     "metadata": {},
     "output_type": "execute_result"
    }
   ],
   "source": [
    "df[df['Cups of Coffee']>8]"
   ]
  },
  {
   "cell_type": "code",
   "execution_count": 67,
   "id": "33b13f6f-50d6-49a5-b7d9-5c439ae094e2",
   "metadata": {},
   "outputs": [
    {
     "data": {
      "text/plain": [
       "array([5, 3, 4, 1, 0, 3, 1, 3, 0, 1, 0, 3, 1, 1, 3, 2, 1, 2, 3, 1, 6, 3,\n",
       "       1, 1, 8, 3, 1, 1, 2, 1, 0, 3, 0, 1, 0, 3, 1, 0, 3, 1, 0, 1, 3, 1,\n",
       "       2, 3, 0, 1, 3, 0, 0, 4, 4, 1, 1, 3, 1, 3, 1, 0, 0, 1, 0, 3, 2, 2,\n",
       "       2, 3, 2, 0, 0, 0, 0, 0, 0, 3, 2, 1, 3, 0, 3, 1, 3, 3, 2, 3, 2, 1,\n",
       "       1, 1, 1, 3, 2, 2, 0, 0, 3, 1, 1, 1, 3, 1, 0, 1, 2, 2, 1, 2, 0, 3,\n",
       "       0, 3, 1, 1, 2, 2, 0, 1, 3, 2, 2, 1, 2, 1, 4, 1, 2, 3, 1, 3, 0, 1,\n",
       "       3, 0, 1, 4, 2, 5, 2, 0, 1, 2, 2, 0, 5, 2, 3, 2, 5, 2, 1, 3, 1, 1,\n",
       "       3, 2, 0, 1, 1, 2, 2, 2, 2, 1, 0, 0, 1, 6, 1, 2, 1, 2, 2, 6, 1, 0,\n",
       "       1, 5, 2, 2, 1, 2, 3, 1, 3, 1, 1, 1, 1, 2, 2, 4, 1, 1, 1, 2, 1, 1,\n",
       "       8, 2])"
      ]
     },
     "execution_count": 67,
     "metadata": {},
     "output_type": "execute_result"
    }
   ],
   "source": [
    "df.coc = np.where(df['Cups of Coffee']>8, 8, df['Cups of Coffee'])\n",
    "df.coc\n"
   ]
  },
  {
   "cell_type": "code",
   "execution_count": 64,
   "id": "4c1d13f3-7ceb-4bb6-a5b2-ec8c436b2eb6",
   "metadata": {},
   "outputs": [
    {
     "data": {
      "text/plain": [
       "0      False\n",
       "1      False\n",
       "2      False\n",
       "3      False\n",
       "4      False\n",
       "       ...  \n",
       "195    False\n",
       "196    False\n",
       "197    False\n",
       "198    False\n",
       "199    False\n",
       "Length: 200, dtype: bool"
      ]
     },
     "execution_count": 64,
     "metadata": {},
     "output_type": "execute_result"
    }
   ],
   "source": [
    "df.duplicated()"
   ]
  },
  {
   "cell_type": "markdown",
   "id": "82028020-1de4-4581-ae1f-e9cdfdff68a5",
   "metadata": {},
   "source": [
    "HENCE THE DATA IS CLEANED COMPLETELY"
   ]
  },
  {
   "cell_type": "markdown",
   "id": "5976cfd5-18ec-4ce8-9e63-2b5f57cb0830",
   "metadata": {},
   "source": [
    "#######CALCULATING MAX,MIN,AVG MARKS"
   ]
  },
  {
   "cell_type": "code",
   "execution_count": 4,
   "id": "37ef9ecd-3824-4c22-8b2c-e78bcfd0d2f4",
   "metadata": {},
   "outputs": [
    {
     "data": {
      "text/plain": [
       "100"
      ]
     },
     "execution_count": 4,
     "metadata": {},
     "output_type": "execute_result"
    }
   ],
   "source": [
    "import pandas as pd\n",
    "df = pd.read_csv('student_data.csv')\n",
    "df['Grade on Test'].max()"
   ]
  },
  {
   "cell_type": "code",
   "execution_count": 5,
   "id": "1210ee0d-7979-4f77-96a6-47e00d7461c3",
   "metadata": {},
   "outputs": [
    {
     "data": {
      "text/plain": [
       "50"
      ]
     },
     "execution_count": 5,
     "metadata": {},
     "output_type": "execute_result"
    }
   ],
   "source": [
    "df['Grade on Test'].min()"
   ]
  },
  {
   "cell_type": "code",
   "execution_count": 6,
   "id": "0e1ccea7-a601-4a4f-afb6-65cc9325eeb9",
   "metadata": {},
   "outputs": [
    {
     "data": {
      "text/plain": [
       "100"
      ]
     },
     "execution_count": 6,
     "metadata": {},
     "output_type": "execute_result"
    }
   ],
   "source": [
    "df['Grade on Test'].max()"
   ]
  },
  {
   "cell_type": "code",
   "execution_count": 14,
   "id": "ed966408-c672-44f9-ac51-d918b5d2d3e9",
   "metadata": {},
   "outputs": [
    {
     "data": {
      "text/plain": [
       "np.float64(74.08)"
      ]
     },
     "execution_count": 14,
     "metadata": {},
     "output_type": "execute_result"
    }
   ],
   "source": [
    "\n",
    "average = df['Grade on Test'].mean()\n",
    "average"
   ]
  },
  {
   "cell_type": "code",
   "execution_count": 15,
   "id": "b755cfc3-42a5-468a-9b58-6a1a18e680d1",
   "metadata": {},
   "outputs": [
    {
     "data": {
      "text/plain": [
       "np.float64(74.08)"
      ]
     },
     "execution_count": 15,
     "metadata": {},
     "output_type": "execute_result"
    }
   ],
   "source": [
    "import numpy as np\n",
    "average = np.mean(df['Grade on Test'])\n",
    "average"
   ]
  },
  {
   "cell_type": "markdown",
   "id": "771951f0-4779-43b8-8e09-592a0be86b7c",
   "metadata": {},
   "source": [
    "#####visualize subject wise performance"
   ]
  },
  {
   "cell_type": "code",
   "execution_count": 16,
   "id": "90d095e9-c6da-4f98-b8e2-65f2bebc4b87",
   "metadata": {},
   "outputs": [
    {
     "data": {
      "text/html": [
       "<div>\n",
       "<style scoped>\n",
       "    .dataframe tbody tr th:only-of-type {\n",
       "        vertical-align: middle;\n",
       "    }\n",
       "\n",
       "    .dataframe tbody tr th {\n",
       "        vertical-align: top;\n",
       "    }\n",
       "\n",
       "    .dataframe thead th {\n",
       "        text-align: right;\n",
       "    }\n",
       "</style>\n",
       "<table border=\"1\" class=\"dataframe\">\n",
       "  <thead>\n",
       "    <tr style=\"text-align: right;\">\n",
       "      <th></th>\n",
       "      <th>Hours of Sleep</th>\n",
       "      <th>Hours Studied</th>\n",
       "      <th>Grade on Test</th>\n",
       "      <th>Grade in Class</th>\n",
       "      <th>Cups of Coffee</th>\n",
       "    </tr>\n",
       "  </thead>\n",
       "  <tbody>\n",
       "    <tr>\n",
       "      <th>0</th>\n",
       "      <td>10.602667</td>\n",
       "      <td>4.586892</td>\n",
       "      <td>99</td>\n",
       "      <td>99.187294</td>\n",
       "      <td>5</td>\n",
       "    </tr>\n",
       "    <tr>\n",
       "      <th>1</th>\n",
       "      <td>8.172997</td>\n",
       "      <td>4.405120</td>\n",
       "      <td>72</td>\n",
       "      <td>67.070903</td>\n",
       "      <td>3</td>\n",
       "    </tr>\n",
       "    <tr>\n",
       "      <th>2</th>\n",
       "      <td>6.430132</td>\n",
       "      <td>0.519630</td>\n",
       "      <td>52</td>\n",
       "      <td>39.644696</td>\n",
       "      <td>4</td>\n",
       "    </tr>\n",
       "    <tr>\n",
       "      <th>3</th>\n",
       "      <td>7.963793</td>\n",
       "      <td>5.004348</td>\n",
       "      <td>80</td>\n",
       "      <td>61.843705</td>\n",
       "      <td>1</td>\n",
       "    </tr>\n",
       "    <tr>\n",
       "      <th>4</th>\n",
       "      <td>8.279421</td>\n",
       "      <td>2.984489</td>\n",
       "      <td>87</td>\n",
       "      <td>103.495002</td>\n",
       "      <td>0</td>\n",
       "    </tr>\n",
       "  </tbody>\n",
       "</table>\n",
       "</div>"
      ],
      "text/plain": [
       "   Hours of Sleep  Hours Studied  Grade on Test  Grade in Class  \\\n",
       "0       10.602667       4.586892             99       99.187294   \n",
       "1        8.172997       4.405120             72       67.070903   \n",
       "2        6.430132       0.519630             52       39.644696   \n",
       "3        7.963793       5.004348             80       61.843705   \n",
       "4        8.279421       2.984489             87      103.495002   \n",
       "\n",
       "   Cups of Coffee  \n",
       "0               5  \n",
       "1               3  \n",
       "2               4  \n",
       "3               1  \n",
       "4               0  "
      ]
     },
     "execution_count": 16,
     "metadata": {},
     "output_type": "execute_result"
    }
   ],
   "source": [
    "df.head()"
   ]
  },
  {
   "cell_type": "code",
   "execution_count": 26,
   "id": "2aeeb240-95a9-4fbc-b552-a271a1afc58c",
   "metadata": {},
   "outputs": [
    {
     "name": "stdout",
     "output_type": "stream",
     "text": [
      "<class 'NoneType'>\n"
     ]
    }
   ],
   "source": [
    "print(type(df))"
   ]
  },
  {
   "cell_type": "code",
   "execution_count": 30,
   "id": "641a3e40-3b4d-48d9-b675-1a35e6409936",
   "metadata": {},
   "outputs": [],
   "source": [
    "df = pd.read_csv('student_data.csv')"
   ]
  },
  {
   "cell_type": "code",
   "execution_count": 56,
   "id": "afff37c3-8919-4ba7-b6e3-4088591c9f03",
   "metadata": {},
   "outputs": [
    {
     "data": {
      "text/html": [
       "<div>\n",
       "<style scoped>\n",
       "    .dataframe tbody tr th:only-of-type {\n",
       "        vertical-align: middle;\n",
       "    }\n",
       "\n",
       "    .dataframe tbody tr th {\n",
       "        vertical-align: top;\n",
       "    }\n",
       "\n",
       "    .dataframe thead th {\n",
       "        text-align: right;\n",
       "    }\n",
       "</style>\n",
       "<table border=\"1\" class=\"dataframe\">\n",
       "  <thead>\n",
       "    <tr style=\"text-align: right;\">\n",
       "      <th></th>\n",
       "      <th>Hours of Sleep</th>\n",
       "      <th>Hours Studied</th>\n",
       "      <th>Grade on Test</th>\n",
       "      <th>subject</th>\n",
       "      <th>Cups of Coffee</th>\n",
       "    </tr>\n",
       "  </thead>\n",
       "  <tbody>\n",
       "    <tr>\n",
       "      <th>0</th>\n",
       "      <td>10.602667</td>\n",
       "      <td>4.586892</td>\n",
       "      <td>99</td>\n",
       "      <td>science</td>\n",
       "      <td>5</td>\n",
       "    </tr>\n",
       "    <tr>\n",
       "      <th>1</th>\n",
       "      <td>8.172997</td>\n",
       "      <td>4.405120</td>\n",
       "      <td>72</td>\n",
       "      <td>67.07090322</td>\n",
       "      <td>3</td>\n",
       "    </tr>\n",
       "    <tr>\n",
       "      <th>2</th>\n",
       "      <td>6.430132</td>\n",
       "      <td>0.519630</td>\n",
       "      <td>52</td>\n",
       "      <td>39.64469588</td>\n",
       "      <td>4</td>\n",
       "    </tr>\n",
       "    <tr>\n",
       "      <th>3</th>\n",
       "      <td>7.963793</td>\n",
       "      <td>5.004348</td>\n",
       "      <td>80</td>\n",
       "      <td>61.84370506</td>\n",
       "      <td>1</td>\n",
       "    </tr>\n",
       "    <tr>\n",
       "      <th>4</th>\n",
       "      <td>8.279421</td>\n",
       "      <td>2.984489</td>\n",
       "      <td>87</td>\n",
       "      <td>science</td>\n",
       "      <td>0</td>\n",
       "    </tr>\n",
       "    <tr>\n",
       "      <th>...</th>\n",
       "      <td>...</td>\n",
       "      <td>...</td>\n",
       "      <td>...</td>\n",
       "      <td>...</td>\n",
       "      <td>...</td>\n",
       "    </tr>\n",
       "    <tr>\n",
       "      <th>195</th>\n",
       "      <td>4.155300</td>\n",
       "      <td>3.173197</td>\n",
       "      <td>59</td>\n",
       "      <td>56.11007629</td>\n",
       "      <td>2</td>\n",
       "    </tr>\n",
       "    <tr>\n",
       "      <th>196</th>\n",
       "      <td>4.306093</td>\n",
       "      <td>2.765300</td>\n",
       "      <td>58</td>\n",
       "      <td>64.74032026</td>\n",
       "      <td>1</td>\n",
       "    </tr>\n",
       "    <tr>\n",
       "      <th>197</th>\n",
       "      <td>4.686733</td>\n",
       "      <td>2.422294</td>\n",
       "      <td>58</td>\n",
       "      <td>49.46264512</td>\n",
       "      <td>1</td>\n",
       "    </tr>\n",
       "    <tr>\n",
       "      <th>198</th>\n",
       "      <td>9.407950</td>\n",
       "      <td>5.290924</td>\n",
       "      <td>98</td>\n",
       "      <td>83.79021731</td>\n",
       "      <td>10</td>\n",
       "    </tr>\n",
       "    <tr>\n",
       "      <th>199</th>\n",
       "      <td>5.989777</td>\n",
       "      <td>1.127786</td>\n",
       "      <td>54</td>\n",
       "      <td>56.19438052</td>\n",
       "      <td>2</td>\n",
       "    </tr>\n",
       "  </tbody>\n",
       "</table>\n",
       "<p>200 rows × 5 columns</p>\n",
       "</div>"
      ],
      "text/plain": [
       "     Hours of Sleep  Hours Studied  Grade on Test      subject  Cups of Coffee\n",
       "0         10.602667       4.586892             99      science               5\n",
       "1          8.172997       4.405120             72  67.07090322               3\n",
       "2          6.430132       0.519630             52  39.64469588               4\n",
       "3          7.963793       5.004348             80  61.84370506               1\n",
       "4          8.279421       2.984489             87      science               0\n",
       "..              ...            ...            ...          ...             ...\n",
       "195        4.155300       3.173197             59  56.11007629               2\n",
       "196        4.306093       2.765300             58  64.74032026               1\n",
       "197        4.686733       2.422294             58  49.46264512               1\n",
       "198        9.407950       5.290924             98  83.79021731              10\n",
       "199        5.989777       1.127786             54  56.19438052               2\n",
       "\n",
       "[200 rows x 5 columns]"
      ]
     },
     "execution_count": 56,
     "metadata": {},
     "output_type": "execute_result"
    }
   ],
   "source": [
    "df = df.rename(columns={'Grade in Class': 'subject'})\n",
    "df"
   ]
  },
  {
   "cell_type": "code",
   "execution_count": 57,
   "id": "7cf9faa0-5be5-4215-bdc4-4306e07dbbf0",
   "metadata": {},
   "outputs": [
    {
     "data": {
      "text/html": [
       "<div>\n",
       "<style scoped>\n",
       "    .dataframe tbody tr th:only-of-type {\n",
       "        vertical-align: middle;\n",
       "    }\n",
       "\n",
       "    .dataframe tbody tr th {\n",
       "        vertical-align: top;\n",
       "    }\n",
       "\n",
       "    .dataframe thead th {\n",
       "        text-align: right;\n",
       "    }\n",
       "</style>\n",
       "<table border=\"1\" class=\"dataframe\">\n",
       "  <thead>\n",
       "    <tr style=\"text-align: right;\">\n",
       "      <th></th>\n",
       "      <th>Hours of Sleep</th>\n",
       "      <th>Hours Studied</th>\n",
       "      <th>Grade on Test</th>\n",
       "      <th>Grade on Class</th>\n",
       "      <th>Cups of Coffee</th>\n",
       "    </tr>\n",
       "  </thead>\n",
       "  <tbody>\n",
       "    <tr>\n",
       "      <th>0</th>\n",
       "      <td>10.602667</td>\n",
       "      <td>4.586892</td>\n",
       "      <td>99</td>\n",
       "      <td>science</td>\n",
       "      <td>5</td>\n",
       "    </tr>\n",
       "    <tr>\n",
       "      <th>1</th>\n",
       "      <td>8.172997</td>\n",
       "      <td>4.405120</td>\n",
       "      <td>72</td>\n",
       "      <td>67.07090322</td>\n",
       "      <td>3</td>\n",
       "    </tr>\n",
       "    <tr>\n",
       "      <th>2</th>\n",
       "      <td>6.430132</td>\n",
       "      <td>0.519630</td>\n",
       "      <td>52</td>\n",
       "      <td>39.64469588</td>\n",
       "      <td>4</td>\n",
       "    </tr>\n",
       "    <tr>\n",
       "      <th>3</th>\n",
       "      <td>7.963793</td>\n",
       "      <td>5.004348</td>\n",
       "      <td>80</td>\n",
       "      <td>61.84370506</td>\n",
       "      <td>1</td>\n",
       "    </tr>\n",
       "    <tr>\n",
       "      <th>4</th>\n",
       "      <td>8.279421</td>\n",
       "      <td>2.984489</td>\n",
       "      <td>87</td>\n",
       "      <td>science</td>\n",
       "      <td>0</td>\n",
       "    </tr>\n",
       "    <tr>\n",
       "      <th>...</th>\n",
       "      <td>...</td>\n",
       "      <td>...</td>\n",
       "      <td>...</td>\n",
       "      <td>...</td>\n",
       "      <td>...</td>\n",
       "    </tr>\n",
       "    <tr>\n",
       "      <th>195</th>\n",
       "      <td>4.155300</td>\n",
       "      <td>3.173197</td>\n",
       "      <td>59</td>\n",
       "      <td>56.11007629</td>\n",
       "      <td>2</td>\n",
       "    </tr>\n",
       "    <tr>\n",
       "      <th>196</th>\n",
       "      <td>4.306093</td>\n",
       "      <td>2.765300</td>\n",
       "      <td>58</td>\n",
       "      <td>64.74032026</td>\n",
       "      <td>1</td>\n",
       "    </tr>\n",
       "    <tr>\n",
       "      <th>197</th>\n",
       "      <td>4.686733</td>\n",
       "      <td>2.422294</td>\n",
       "      <td>58</td>\n",
       "      <td>49.46264512</td>\n",
       "      <td>1</td>\n",
       "    </tr>\n",
       "    <tr>\n",
       "      <th>198</th>\n",
       "      <td>9.407950</td>\n",
       "      <td>5.290924</td>\n",
       "      <td>98</td>\n",
       "      <td>83.79021731</td>\n",
       "      <td>10</td>\n",
       "    </tr>\n",
       "    <tr>\n",
       "      <th>199</th>\n",
       "      <td>5.989777</td>\n",
       "      <td>1.127786</td>\n",
       "      <td>54</td>\n",
       "      <td>56.19438052</td>\n",
       "      <td>2</td>\n",
       "    </tr>\n",
       "  </tbody>\n",
       "</table>\n",
       "<p>200 rows × 5 columns</p>\n",
       "</div>"
      ],
      "text/plain": [
       "     Hours of Sleep  Hours Studied  Grade on Test Grade on Class  \\\n",
       "0         10.602667       4.586892             99        science   \n",
       "1          8.172997       4.405120             72    67.07090322   \n",
       "2          6.430132       0.519630             52    39.64469588   \n",
       "3          7.963793       5.004348             80    61.84370506   \n",
       "4          8.279421       2.984489             87        science   \n",
       "..              ...            ...            ...            ...   \n",
       "195        4.155300       3.173197             59    56.11007629   \n",
       "196        4.306093       2.765300             58    64.74032026   \n",
       "197        4.686733       2.422294             58    49.46264512   \n",
       "198        9.407950       5.290924             98    83.79021731   \n",
       "199        5.989777       1.127786             54    56.19438052   \n",
       "\n",
       "     Cups of Coffee  \n",
       "0                 5  \n",
       "1                 3  \n",
       "2                 4  \n",
       "3                 1  \n",
       "4                 0  \n",
       "..              ...  \n",
       "195               2  \n",
       "196               1  \n",
       "197               1  \n",
       "198              10  \n",
       "199               2  \n",
       "\n",
       "[200 rows x 5 columns]"
      ]
     },
     "execution_count": 57,
     "metadata": {},
     "output_type": "execute_result"
    }
   ],
   "source": [
    "df = df.rename(columns={'subject': 'Grade on Class'})\n",
    "df"
   ]
  },
  {
   "cell_type": "code",
   "execution_count": 60,
   "id": "c5f3bb5e-825d-4bff-8542-a0c46daffca7",
   "metadata": {},
   "outputs": [],
   "source": [
    "df['subject'] = 'science'\n",
    "df['subject'] = np.where(df['Grade on Test'] > 90, 'math', 'English')\n"
   ]
  },
  {
   "cell_type": "code",
   "execution_count": 61,
   "id": "2e73abb5-ea43-4116-991b-32c338851e9f",
   "metadata": {},
   "outputs": [
    {
     "data": {
      "text/html": [
       "<div>\n",
       "<style scoped>\n",
       "    .dataframe tbody tr th:only-of-type {\n",
       "        vertical-align: middle;\n",
       "    }\n",
       "\n",
       "    .dataframe tbody tr th {\n",
       "        vertical-align: top;\n",
       "    }\n",
       "\n",
       "    .dataframe thead th {\n",
       "        text-align: right;\n",
       "    }\n",
       "</style>\n",
       "<table border=\"1\" class=\"dataframe\">\n",
       "  <thead>\n",
       "    <tr style=\"text-align: right;\">\n",
       "      <th></th>\n",
       "      <th>Hours of Sleep</th>\n",
       "      <th>Hours Studied</th>\n",
       "      <th>Grade on Test</th>\n",
       "      <th>Grade on Class</th>\n",
       "      <th>Cups of Coffee</th>\n",
       "      <th>subject</th>\n",
       "    </tr>\n",
       "  </thead>\n",
       "  <tbody>\n",
       "    <tr>\n",
       "      <th>0</th>\n",
       "      <td>10.602667</td>\n",
       "      <td>4.586892</td>\n",
       "      <td>99</td>\n",
       "      <td>science</td>\n",
       "      <td>5</td>\n",
       "      <td>math</td>\n",
       "    </tr>\n",
       "    <tr>\n",
       "      <th>1</th>\n",
       "      <td>8.172997</td>\n",
       "      <td>4.405120</td>\n",
       "      <td>72</td>\n",
       "      <td>67.07090322</td>\n",
       "      <td>3</td>\n",
       "      <td>English</td>\n",
       "    </tr>\n",
       "    <tr>\n",
       "      <th>2</th>\n",
       "      <td>6.430132</td>\n",
       "      <td>0.519630</td>\n",
       "      <td>52</td>\n",
       "      <td>39.64469588</td>\n",
       "      <td>4</td>\n",
       "      <td>English</td>\n",
       "    </tr>\n",
       "    <tr>\n",
       "      <th>3</th>\n",
       "      <td>7.963793</td>\n",
       "      <td>5.004348</td>\n",
       "      <td>80</td>\n",
       "      <td>61.84370506</td>\n",
       "      <td>1</td>\n",
       "      <td>English</td>\n",
       "    </tr>\n",
       "    <tr>\n",
       "      <th>4</th>\n",
       "      <td>8.279421</td>\n",
       "      <td>2.984489</td>\n",
       "      <td>87</td>\n",
       "      <td>science</td>\n",
       "      <td>0</td>\n",
       "      <td>English</td>\n",
       "    </tr>\n",
       "  </tbody>\n",
       "</table>\n",
       "</div>"
      ],
      "text/plain": [
       "   Hours of Sleep  Hours Studied  Grade on Test Grade on Class  \\\n",
       "0       10.602667       4.586892             99        science   \n",
       "1        8.172997       4.405120             72    67.07090322   \n",
       "2        6.430132       0.519630             52    39.64469588   \n",
       "3        7.963793       5.004348             80    61.84370506   \n",
       "4        8.279421       2.984489             87        science   \n",
       "\n",
       "   Cups of Coffee  subject  \n",
       "0               5     math  \n",
       "1               3  English  \n",
       "2               4  English  \n",
       "3               1  English  \n",
       "4               0  English  "
      ]
     },
     "execution_count": 61,
     "metadata": {},
     "output_type": "execute_result"
    }
   ],
   "source": [
    "df.head()"
   ]
  },
  {
   "cell_type": "code",
   "execution_count": 62,
   "id": "c9d49e52-a6eb-44a3-938c-0166c61502b4",
   "metadata": {},
   "outputs": [],
   "source": [
    "import matplotlib.pyplot as plt"
   ]
  },
  {
   "cell_type": "code",
   "execution_count": 63,
   "id": "b709c197-3f71-4487-8df6-c197529407b3",
   "metadata": {},
   "outputs": [
    {
     "data": {
      "image/png": "[encoded data removed]",
      "text/plain": [
       "<Figure size 800x500 with 1 Axes>"
      ]
     },
     "metadata": {},
     "output_type": "display_data"
    }
   ],
   "source": [
    "import pandas as pd\n",
    "import matplotlib.pyplot as plt\n",
    "\n",
    "# Group by 'subject' and find the maximum grade on test\n",
    "subject_top_scores = df.groupby('subject')['Grade on Test'].max()\n",
    "\n",
    "# Plotting\n",
    "plt.figure(figsize=(8, 5))\n",
    "subject_top_scores.plot(kind='bar', color='skyblue')\n",
    "\n",
    "plt.title('Top Grade on Test per Subject')\n",
    "plt.xlabel('Subject')\n",
    "plt.ylabel('Top Grade')\n",
    "plt.xticks(rotation=0)\n",
    "plt.ylim(0, 110)  # Optional: set limit if grades are out of 100\n",
    "plt.grid(axis='y', linestyle='--', alpha=0.7)\n",
    "\n",
    "plt.tight_layout()\n",
    "plt.show()\n"
   ]
  },
  {
   "cell_type": "markdown",
   "id": "a0913ceb-a141-49aa-b810-b7b39bb8a2d7",
   "metadata": {},
   "source": [
    "###IDENTIFYING TOP 5 STUDENTS"
   ]
  },
  {
   "cell_type": "code",
   "execution_count": 65,
   "id": "08998940-72de-4354-90ad-07472836c887",
   "metadata": {},
   "outputs": [
    {
     "data": {
      "text/html": [
       "<div>\n",
       "<style scoped>\n",
       "    .dataframe tbody tr th:only-of-type {\n",
       "        vertical-align: middle;\n",
       "    }\n",
       "\n",
       "    .dataframe tbody tr th {\n",
       "        vertical-align: top;\n",
       "    }\n",
       "\n",
       "    .dataframe thead th {\n",
       "        text-align: right;\n",
       "    }\n",
       "</style>\n",
       "<table border=\"1\" class=\"dataframe\">\n",
       "  <thead>\n",
       "    <tr style=\"text-align: right;\">\n",
       "      <th></th>\n",
       "      <th>Hours of Sleep</th>\n",
       "      <th>Hours Studied</th>\n",
       "      <th>Grade on Test</th>\n",
       "      <th>Grade on Class</th>\n",
       "      <th>Cups of Coffee</th>\n",
       "      <th>subject</th>\n",
       "      <th>Student</th>\n",
       "    </tr>\n",
       "  </thead>\n",
       "  <tbody>\n",
       "    <tr>\n",
       "      <th>0</th>\n",
       "      <td>10.602667</td>\n",
       "      <td>4.586892</td>\n",
       "      <td>99</td>\n",
       "      <td>science</td>\n",
       "      <td>5</td>\n",
       "      <td>math</td>\n",
       "      <td>Student 1</td>\n",
       "    </tr>\n",
       "    <tr>\n",
       "      <th>1</th>\n",
       "      <td>8.172997</td>\n",
       "      <td>4.405120</td>\n",
       "      <td>72</td>\n",
       "      <td>67.07090322</td>\n",
       "      <td>3</td>\n",
       "      <td>English</td>\n",
       "      <td>Student 2</td>\n",
       "    </tr>\n",
       "    <tr>\n",
       "      <th>2</th>\n",
       "      <td>6.430132</td>\n",
       "      <td>0.519630</td>\n",
       "      <td>52</td>\n",
       "      <td>39.64469588</td>\n",
       "      <td>4</td>\n",
       "      <td>English</td>\n",
       "      <td>Student 3</td>\n",
       "    </tr>\n",
       "    <tr>\n",
       "      <th>3</th>\n",
       "      <td>7.963793</td>\n",
       "      <td>5.004348</td>\n",
       "      <td>80</td>\n",
       "      <td>61.84370506</td>\n",
       "      <td>1</td>\n",
       "      <td>English</td>\n",
       "      <td>Student 4</td>\n",
       "    </tr>\n",
       "    <tr>\n",
       "      <th>4</th>\n",
       "      <td>8.279421</td>\n",
       "      <td>2.984489</td>\n",
       "      <td>87</td>\n",
       "      <td>science</td>\n",
       "      <td>0</td>\n",
       "      <td>English</td>\n",
       "      <td>Student 5</td>\n",
       "    </tr>\n",
       "  </tbody>\n",
       "</table>\n",
       "</div>"
      ],
      "text/plain": [
       "   Hours of Sleep  Hours Studied  Grade on Test Grade on Class  \\\n",
       "0       10.602667       4.586892             99        science   \n",
       "1        8.172997       4.405120             72    67.07090322   \n",
       "2        6.430132       0.519630             52    39.64469588   \n",
       "3        7.963793       5.004348             80    61.84370506   \n",
       "4        8.279421       2.984489             87        science   \n",
       "\n",
       "   Cups of Coffee  subject    Student  \n",
       "0               5     math  Student 1  \n",
       "1               3  English  Student 2  \n",
       "2               4  English  Student 3  \n",
       "3               1  English  Student 4  \n",
       "4               0  English  Student 5  "
      ]
     },
     "execution_count": 65,
     "metadata": {},
     "output_type": "execute_result"
    }
   ],
   "source": [
    "df['Student'] = ['Student ' + str(i+1) for i in range(len(df))]\n",
    "df.head()\n"
   ]
  },
  {
   "cell_type": "code",
   "execution_count": 69,
   "id": "f4c4f0d2-a6f7-46ad-8714-dedb2cafc9cd",
   "metadata": {},
   "outputs": [
    {
     "data": {
      "text/plain": [
       "['Student_1',\n",
       " 'Student_2',\n",
       " 'Student_3',\n",
       " 'Student_4',\n",
       " 'Student_5',\n",
       " 'Student_6',\n",
       " 'Student_7',\n",
       " 'Student_8',\n",
       " 'Student_9',\n",
       " 'Student_10',\n",
       " 'Student_11',\n",
       " 'Student_12',\n",
       " 'Student_13',\n",
       " 'Student_14',\n",
       " 'Student_15',\n",
       " 'Student_16',\n",
       " 'Student_17',\n",
       " 'Student_18',\n",
       " 'Student_19',\n",
       " 'Student_20',\n",
       " 'Student_21',\n",
       " 'Student_22',\n",
       " 'Student_23',\n",
       " 'Student_24',\n",
       " 'Student_25',\n",
       " 'Student_26',\n",
       " 'Student_27',\n",
       " 'Student_28',\n",
       " 'Student_29',\n",
       " 'Student_30',\n",
       " 'Student_31',\n",
       " 'Student_32',\n",
       " 'Student_33',\n",
       " 'Student_34',\n",
       " 'Student_35',\n",
       " 'Student_36',\n",
       " 'Student_37',\n",
       " 'Student_38',\n",
       " 'Student_39',\n",
       " 'Student_40',\n",
       " 'Student_41',\n",
       " 'Student_42',\n",
       " 'Student_43',\n",
       " 'Student_44',\n",
       " 'Student_45',\n",
       " 'Student_46',\n",
       " 'Student_47',\n",
       " 'Student_48',\n",
       " 'Student_49',\n",
       " 'Student_50',\n",
       " 'Student_51',\n",
       " 'Student_52',\n",
       " 'Student_53',\n",
       " 'Student_54',\n",
       " 'Student_55',\n",
       " 'Student_56',\n",
       " 'Student_57',\n",
       " 'Student_58',\n",
       " 'Student_59',\n",
       " 'Student_60',\n",
       " 'Student_61',\n",
       " 'Student_62',\n",
       " 'Student_63',\n",
       " 'Student_64',\n",
       " 'Student_65',\n",
       " 'Student_66',\n",
       " 'Student_67',\n",
       " 'Student_68',\n",
       " 'Student_69',\n",
       " 'Student_70',\n",
       " 'Student_71',\n",
       " 'Student_72',\n",
       " 'Student_73',\n",
       " 'Student_74',\n",
       " 'Student_75',\n",
       " 'Student_76',\n",
       " 'Student_77',\n",
       " 'Student_78',\n",
       " 'Student_79',\n",
       " 'Student_80',\n",
       " 'Student_81',\n",
       " 'Student_82',\n",
       " 'Student_83',\n",
       " 'Student_84',\n",
       " 'Student_85',\n",
       " 'Student_86',\n",
       " 'Student_87',\n",
       " 'Student_88',\n",
       " 'Student_89',\n",
       " 'Student_90',\n",
       " 'Student_91',\n",
       " 'Student_92',\n",
       " 'Student_93',\n",
       " 'Student_94',\n",
       " 'Student_95',\n",
       " 'Student_96',\n",
       " 'Student_97',\n",
       " 'Student_98',\n",
       " 'Student_99',\n",
       " 'Student_100',\n",
       " 'Student_101',\n",
       " 'Student_102',\n",
       " 'Student_103',\n",
       " 'Student_104',\n",
       " 'Student_105',\n",
       " 'Student_106',\n",
       " 'Student_107',\n",
       " 'Student_108',\n",
       " 'Student_109',\n",
       " 'Student_110',\n",
       " 'Student_111',\n",
       " 'Student_112',\n",
       " 'Student_113',\n",
       " 'Student_114',\n",
       " 'Student_115',\n",
       " 'Student_116',\n",
       " 'Student_117',\n",
       " 'Student_118',\n",
       " 'Student_119',\n",
       " 'Student_120',\n",
       " 'Student_121',\n",
       " 'Student_122',\n",
       " 'Student_123',\n",
       " 'Student_124',\n",
       " 'Student_125',\n",
       " 'Student_126',\n",
       " 'Student_127',\n",
       " 'Student_128',\n",
       " 'Student_129',\n",
       " 'Student_130',\n",
       " 'Student_131',\n",
       " 'Student_132',\n",
       " 'Student_133',\n",
       " 'Student_134',\n",
       " 'Student_135',\n",
       " 'Student_136',\n",
       " 'Student_137',\n",
       " 'Student_138',\n",
       " 'Student_139',\n",
       " 'Student_140',\n",
       " 'Student_141',\n",
       " 'Student_142',\n",
       " 'Student_143',\n",
       " 'Student_144',\n",
       " 'Student_145',\n",
       " 'Student_146',\n",
       " 'Student_147',\n",
       " 'Student_148',\n",
       " 'Student_149',\n",
       " 'Student_150',\n",
       " 'Student_151',\n",
       " 'Student_152',\n",
       " 'Student_153',\n",
       " 'Student_154',\n",
       " 'Student_155',\n",
       " 'Student_156',\n",
       " 'Student_157',\n",
       " 'Student_158',\n",
       " 'Student_159',\n",
       " 'Student_160',\n",
       " 'Student_161',\n",
       " 'Student_162',\n",
       " 'Student_163',\n",
       " 'Student_164',\n",
       " 'Student_165',\n",
       " 'Student_166',\n",
       " 'Student_167',\n",
       " 'Student_168',\n",
       " 'Student_169',\n",
       " 'Student_170',\n",
       " 'Student_171',\n",
       " 'Student_172',\n",
       " 'Student_173',\n",
       " 'Student_174',\n",
       " 'Student_175',\n",
       " 'Student_176',\n",
       " 'Student_177',\n",
       " 'Student_178',\n",
       " 'Student_179',\n",
       " 'Student_180',\n",
       " 'Student_181',\n",
       " 'Student_182',\n",
       " 'Student_183',\n",
       " 'Student_184',\n",
       " 'Student_185',\n",
       " 'Student_186',\n",
       " 'Student_187',\n",
       " 'Student_188',\n",
       " 'Student_189',\n",
       " 'Student_190',\n",
       " 'Student_191',\n",
       " 'Student_192',\n",
       " 'Student_193',\n",
       " 'Student_194',\n",
       " 'Student_195',\n",
       " 'Student_196',\n",
       " 'Student_197',\n",
       " 'Student_198',\n",
       " 'Student_199',\n",
       " 'Student_200']"
      ]
     },
     "execution_count": 69,
     "metadata": {},
     "output_type": "execute_result"
    }
   ],
   "source": [
    "names = [f\"Student_{i+1}\" for i in range(200)]\n",
    "df['Student'] = names\n",
    "names\n"
   ]
  },
  {
   "cell_type": "code",
   "execution_count": 70,
   "id": "7aada4e8-46c2-49b0-a5be-2cd7f19bb0f2",
   "metadata": {},
   "outputs": [
    {
     "data": {
      "text/html": [
       "<div>\n",
       "<style scoped>\n",
       "    .dataframe tbody tr th:only-of-type {\n",
       "        vertical-align: middle;\n",
       "    }\n",
       "\n",
       "    .dataframe tbody tr th {\n",
       "        vertical-align: top;\n",
       "    }\n",
       "\n",
       "    .dataframe thead th {\n",
       "        text-align: right;\n",
       "    }\n",
       "</style>\n",
       "<table border=\"1\" class=\"dataframe\">\n",
       "  <thead>\n",
       "    <tr style=\"text-align: right;\">\n",
       "      <th></th>\n",
       "      <th>Hours of Sleep</th>\n",
       "      <th>Hours Studied</th>\n",
       "      <th>Grade on Test</th>\n",
       "      <th>Grade on Class</th>\n",
       "      <th>Cups of Coffee</th>\n",
       "      <th>subject</th>\n",
       "      <th>Student</th>\n",
       "    </tr>\n",
       "  </thead>\n",
       "  <tbody>\n",
       "    <tr>\n",
       "      <th>0</th>\n",
       "      <td>10.602667</td>\n",
       "      <td>4.586892</td>\n",
       "      <td>99</td>\n",
       "      <td>science</td>\n",
       "      <td>5</td>\n",
       "      <td>math</td>\n",
       "      <td>Student_1</td>\n",
       "    </tr>\n",
       "    <tr>\n",
       "      <th>1</th>\n",
       "      <td>8.172997</td>\n",
       "      <td>4.405120</td>\n",
       "      <td>72</td>\n",
       "      <td>67.07090322</td>\n",
       "      <td>3</td>\n",
       "      <td>English</td>\n",
       "      <td>Student_2</td>\n",
       "    </tr>\n",
       "    <tr>\n",
       "      <th>2</th>\n",
       "      <td>6.430132</td>\n",
       "      <td>0.519630</td>\n",
       "      <td>52</td>\n",
       "      <td>39.64469588</td>\n",
       "      <td>4</td>\n",
       "      <td>English</td>\n",
       "      <td>Student_3</td>\n",
       "    </tr>\n",
       "    <tr>\n",
       "      <th>3</th>\n",
       "      <td>7.963793</td>\n",
       "      <td>5.004348</td>\n",
       "      <td>80</td>\n",
       "      <td>61.84370506</td>\n",
       "      <td>1</td>\n",
       "      <td>English</td>\n",
       "      <td>Student_4</td>\n",
       "    </tr>\n",
       "    <tr>\n",
       "      <th>4</th>\n",
       "      <td>8.279421</td>\n",
       "      <td>2.984489</td>\n",
       "      <td>87</td>\n",
       "      <td>science</td>\n",
       "      <td>0</td>\n",
       "      <td>English</td>\n",
       "      <td>Student_5</td>\n",
       "    </tr>\n",
       "  </tbody>\n",
       "</table>\n",
       "</div>"
      ],
      "text/plain": [
       "   Hours of Sleep  Hours Studied  Grade on Test Grade on Class  \\\n",
       "0       10.602667       4.586892             99        science   \n",
       "1        8.172997       4.405120             72    67.07090322   \n",
       "2        6.430132       0.519630             52    39.64469588   \n",
       "3        7.963793       5.004348             80    61.84370506   \n",
       "4        8.279421       2.984489             87        science   \n",
       "\n",
       "   Cups of Coffee  subject    Student  \n",
       "0               5     math  Student_1  \n",
       "1               3  English  Student_2  \n",
       "2               4  English  Student_3  \n",
       "3               1  English  Student_4  \n",
       "4               0  English  Student_5  "
      ]
     },
     "execution_count": 70,
     "metadata": {},
     "output_type": "execute_result"
    }
   ],
   "source": [
    "df.head()"
   ]
  },
  {
   "cell_type": "code",
   "execution_count": 71,
   "id": "467b172e-ece3-4158-9f91-b79278333ded",
   "metadata": {},
   "outputs": [
    {
     "name": "stdout",
     "output_type": "stream",
     "text": [
      "         Student  Grade on Test subject\n",
      "117  Student_118            100    math\n",
      "0      Student_1             99    math\n",
      "176  Student_177             99    math\n",
      "50    Student_51             99    math\n",
      "167  Student_168             99    math\n"
     ]
    }
   ],
   "source": [
    "# Sort the DataFrame by 'Grade on Test' in descending order and pick top 5\n",
    "top_5_students = df.sort_values(by='Grade on Test', ascending=False).head(5)\n",
    "\n",
    "# Display the top 5 students with their scores\n",
    "print(top_5_students[['Student', 'Grade on Test', 'subject']])\n"
   ]
  }
 ],
 "metadata": {
  "kernelspec": {
   "display_name": "Python [conda env:base] *",
   "language": "python",
   "name": "conda-base-py"
  },
  "language_info": {
   "codemirror_mode": {
    "name": "ipython",
    "version": 3
   },
   "file_extension": ".py",
   "mimetype": "text/x-python",
   "name": "python",
   "nbconvert_exporter": "python",
   "pygments_lexer": "ipython3",
   "version": "3.13.5"
  }
 },
 "nbformat": 4,
 "nbformat_minor": 5
}
